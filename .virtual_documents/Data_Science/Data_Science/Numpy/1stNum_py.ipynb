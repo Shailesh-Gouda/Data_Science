# 1st Numpy








#single dimensional array
import numpy as np
d1_arr=np.array([1,2,3,4,5,6])
print(d1_arr)


# two dimensional array
import numpy as np
d1_arr=np.array([[1,2,3],
                  [4,5,6]])
print(d1_arr)


# multi dimensional array  *matriex

import numpy as np
matriex=np.array([[1,2,3],
                  [4,5,6]])
print(matriex)
