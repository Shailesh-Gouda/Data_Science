{
 "cells": [
  {
   "cell_type": "code",
   "execution_count": 1,
   "id": "e070beac-4a12-4173-8b46-553a19faa8bc",
   "metadata": {},
   "outputs": [],
   "source": [
    "# 1st Numpy"
   ]
  },
  {
   "cell_type": "markdown",
   "id": "c74a7023-5c6f-4b81-b357-0f9038f69532",
   "metadata": {},
   "source": [
    "# install numpy by\n",
    "pip install numpy"
   ]
  },
  {
   "cell_type": "markdown",
   "id": "5257559e-77aa-469b-bef4-bde4267c5d1f",
   "metadata": {},
   "source": [
    "TYPES:-\n",
    "1.single dimensional array \n",
    "2.two  dimensional array [rows & columns]\n",
    "3.multi dimensional array [mariex]"
   ]
  },
  {
   "cell_type": "code",
   "execution_count": 4,
   "id": "8c8ec5f0-0b47-4d08-9365-d33500ad5390",
   "metadata": {},
   "outputs": [
    {
     "name": "stdout",
     "output_type": "stream",
     "text": [
      "[1 2 3 4 5 6]\n"
     ]
    }
   ],
   "source": [
    "#single dimensional array\n",
    "import numpy as np\n",
    "d1_arr=np.array([1,2,3,4,5,6])\n",
    "print(d1_arr)"
   ]
  },
  {
   "cell_type": "code",
   "execution_count": 5,
   "id": "d817d52f-699b-4e19-bece-225754a37159",
   "metadata": {},
   "outputs": [
    {
     "name": "stdout",
     "output_type": "stream",
     "text": [
      "[[1 2 3]\n",
      " [4 5 6]]\n"
     ]
    }
   ],
   "source": [
    "# two dimensional array\n",
    "import numpy as np\n",
    "d1_arr=np.array([[1,2,3],\n",
    "                  [4,5,6]])\n",
    "print(d1_arr)"
   ]
  },
  {
   "cell_type": "code",
   "execution_count": 6,
   "id": "a56efe17-f788-4c60-b37d-5b0f007e9fc0",
   "metadata": {},
   "outputs": [
    {
     "name": "stdout",
     "output_type": "stream",
     "text": [
      "[[1 2 3]\n",
      " [4 5 6]]\n"
     ]
    }
   ],
   "source": [
    "# multi dimensional array  *matriex\n",
    "\n",
    "import numpy as np\n",
    "matriex=np.array([[1,2,3],\n",
    "                  [4,5,6]])\n",
    "print(matriex)"
   ]
  }
 ],
 "metadata": {
  "kernelspec": {
   "display_name": "Python 3 (ipykernel)",
   "language": "python",
   "name": "python3"
  },
  "language_info": {
   "codemirror_mode": {
    "name": "ipython",
    "version": 3
   },
   "file_extension": ".py",
   "mimetype": "text/x-python",
   "name": "python",
   "nbconvert_exporter": "python",
   "pygments_lexer": "ipython3",
   "version": "3.13.5"
  }
 },
 "nbformat": 4,
 "nbformat_minor": 5
}
